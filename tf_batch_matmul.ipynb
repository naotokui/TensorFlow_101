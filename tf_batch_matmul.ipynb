{
 "cells": [
  {
   "cell_type": "markdown",
   "metadata": {},
   "source": [
    "# batch_matmul?\n",
    "\n"
   ]
  },
  {
   "cell_type": "code",
   "execution_count": 29,
   "metadata": {
    "collapsed": false
   },
   "outputs": [
    {
     "name": "stdout",
     "output_type": "stream",
     "text": [
      "m: [[ 2  3]\n",
      " [ 6 11]]\n"
     ]
    }
   ],
   "source": [
    "import tensorflow as tf\n",
    "import numpy as np\n",
    "\n",
    "with tf.Session() as sess:\n",
    "    # define constants\n",
    "    x_mat = tf.constant(range(4), shape=[2,2])\n",
    "    y_mat = tf.constant(range(4), shape=[2,2])\n",
    "    \n",
    "    # define matmul op\n",
    "    m     = tf.matmul(x_mat, y_mat) \n",
    "\n",
    "    # eval and print\n",
    "    print m.eval()\n",
    "    "
   ]
  },
  {
   "cell_type": "code",
   "execution_count": 32,
   "metadata": {
    "collapsed": false
   },
   "outputs": [
    {
     "name": "stdout",
     "output_type": "stream",
     "text": [
      "[[  2.   3.]\n",
      " [  6.  11.]]\n"
     ]
    }
   ],
   "source": [
    "\n",
    "with tf.Session() as sess:\n",
    "    # define placeholder\n",
    "    x_p = tf.placeholder(\"float\", shape=[2,2])\n",
    "    y_p = tf.placeholder(\"float\", shape=[2,2])\n",
    "    \n",
    "    # define matmul op\n",
    "    m     = tf.matmul(x_p, y_p) \n",
    "    \n",
    "    # specify input values to placeholder and run\n",
    "    result = sess.run(m, feed_dict={x_p: np.arange(4).reshape((2, 2)), \n",
    "                               y_p: np.arange(4).reshape((2, 2))})\n",
    "    print result\n",
    "    "
   ]
  },
  {
   "cell_type": "code",
   "execution_count": 38,
   "metadata": {
    "collapsed": false
   },
   "outputs": [
    {
     "name": "stdout",
     "output_type": "stream",
     "text": [
      "[[[   2.    3.]\n",
      "  [   6.   11.]]\n",
      "\n",
      " [[  46.   55.]\n",
      "  [  66.   79.]]\n",
      "\n",
      " [[ 154.  171.]\n",
      "  [ 190.  211.]]]\n"
     ]
    }
   ],
   "source": [
    "\n",
    "with tf.Session() as sess:\n",
    "    # define placeholder\n",
    "    x_p = tf.placeholder(\"float\", shape=[None,2,2])\n",
    "    y_p = tf.placeholder(\"float\", shape=[None,2,2])\n",
    "    \n",
    "    # define batch_matmul op\n",
    "    m     = tf.batch_matmul(x_p, y_p) \n",
    "    \n",
    "    # specify input values to placeholder and run\n",
    "    result = sess.run(m, feed_dict={x_p: np.arange(12).reshape((3, 2, 2)), \n",
    "                               y_p: np.arange(12).reshape((3, 2, 2))})\n",
    "    print result\n",
    "    "
   ]
  }
 ],
 "metadata": {
  "kernelspec": {
   "display_name": "Python 2",
   "language": "python",
   "name": "python2"
  },
  "language_info": {
   "codemirror_mode": {
    "name": "ipython",
    "version": 2
   },
   "file_extension": ".py",
   "mimetype": "text/x-python",
   "name": "python",
   "nbconvert_exporter": "python",
   "pygments_lexer": "ipython2",
   "version": "2.7.10"
  }
 },
 "nbformat": 4,
 "nbformat_minor": 0
}
